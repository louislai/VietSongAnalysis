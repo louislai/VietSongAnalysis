{
 "cells": [
  {
   "cell_type": "code",
   "execution_count": 60,
   "metadata": {},
   "outputs": [],
   "source": [
    "# Convert into three csv for songs, presentors and genres, indexed by song_id\n",
    "\n",
    "import os\n",
    "import csv\n",
    "import string\n",
    "\n",
    "data_path = \"data\"\n",
    "output_path = \"csv\"\n",
    "files = [os.path.join(data_path, f) for f in os.listdir(data_path)]\n",
    "        \n",
    "    \n",
    "class Song:\n",
    "    def __init__(self, name, artist, lyric, presentor, genres):\n",
    "        self.name = name\n",
    "        self.artist = artist\n",
    "        self.lyric = lyric\n",
    "        self.presentors = presentor\n",
    "        self.genres = genres\n",
    "\n",
    "\n",
    "song_csv = open(os.path.join(output_path, 'songs.csv'), 'w')\n",
    "performer_csv = open(os.path.join(output_path, 'performers.csv'), 'w')\n",
    "genre_csv = open(os.path.join(output_path, 'genres.csv'), 'w')\n",
    "\n",
    "song_headers = ['song_id', 'name', 'artist', 'lyric']\n",
    "song_writer = csv.DictWriter(song_csv, song_headers)\n",
    "song_writer.writeheader()\n",
    "\n",
    "performer_headers = ['song_id', 'performer']\n",
    "performer_writer = csv.DictWriter(performer_csv, performer_headers)\n",
    "performer_writer.writeheader()\n",
    "\n",
    "genre_headers = ['song_id', 'genre']\n",
    "genre_writer = csv.DictWriter(genre_csv, genre_headers)\n",
    "genre_writer.writeheader()\n",
    "\n",
    "def strip_punctuations(s):\n",
    "    return  ' '.join(word.strip(string.punctuation) for word in s.split())\n",
    "\n",
    "def zipdict(headers, values):\n",
    "    return dict(zip(headers, values))\n",
    "\n",
    "for p in files:\n",
    "    with open(p) as f:\n",
    "        try:\n",
    "            song_id =  int(os.path.splitext(os.path.basename(p).replace('/.txt', ''))[0])\n",
    "            lines = f.readlines()\n",
    "            lines = [line.strip() for line in lines]\n",
    "            stripped_lyrics = strip_punctuations('.'.join(lines[4:]))\n",
    "            song = Song(lines[0], lines[1], stripped_lyrics, lines[2].split(','), lines[3].split(','))\n",
    "            song_writer.writerow(zipdict(song_headers, [song_id, song.name, song.artist, song.lyric]))\n",
    "\n",
    "            for performer in song.presentors:\n",
    "                performer_writer.writerow(zipdict(performer_headers, [song_id, performer]))\n",
    "\n",
    "            for genre in song.genres:\n",
    "                genre_writer.writerow(zipdict(genre_headers, [song_id, genre]))\n",
    "        except:\n",
    "            continue\n",
    "            \n",
    "song_csv.close()\n",
    "performer_csv.close()\n",
    "genre_csv.close()\n"
   ]
  },
  {
   "cell_type": "code",
   "execution_count": 70,
   "metadata": {},
   "outputs": [],
   "source": [
    "from pyspark import SparkConf, SparkContext, SQLContext\n",
    "import pyspark.sql.functions as func\n",
    "\n",
    "spark = pyspark.sql.SparkSession.builder\\\n",
    "    .master(\"local\") \\\n",
    "    .appName('app')\\\n",
    "    .getOrCreate()\n",
    "sc = spark.sparkContext"
   ]
  },
  {
   "cell_type": "code",
   "execution_count": 82,
   "metadata": {},
   "outputs": [
    {
     "data": {
      "text/plain": [
       "11846"
      ]
     },
     "execution_count": 82,
     "metadata": {},
     "output_type": "execute_result"
    }
   ],
   "source": [
    "#help(spark.read.csv)\n",
    "\n",
    "songs = spark.read.csv('file:///Users/louis/VietSongAnalysis/csv/songs.csv', header=True, sep=\",\")\n",
    "performers = spark.read.csv('file:///Users/louis/VietSongAnalysis/csv/performers.csv', header=True, sep=\",\")\n",
    "genres = spark.read.csv('file:///Users/louis/VietSongAnalysis/csv/performers.csv', header=True, sep=\",\")"
   ]
  },
  {
   "cell_type": "code",
   "execution_count": null,
   "metadata": {
    "collapsed": true
   },
   "outputs": [],
   "source": []
  }
 ],
 "metadata": {
  "kernelspec": {
   "display_name": "Python 3",
   "language": "python",
   "name": "python3"
  },
  "language_info": {
   "codemirror_mode": {
    "name": "ipython",
    "version": 3
   },
   "file_extension": ".py",
   "mimetype": "text/x-python",
   "name": "python",
   "nbconvert_exporter": "python",
   "pygments_lexer": "ipython3",
   "version": "3.6.5"
  }
 },
 "nbformat": 4,
 "nbformat_minor": 2
}
